{
 "cells": [
  {
   "cell_type": "markdown",
   "id": "fd3439a9-448a-4e5d-9b62-c731fa4f1f3f",
   "metadata": {},
   "source": [
    "#### Q1. What is Statistics?"
   ]
  },
  {
   "cell_type": "markdown",
   "id": "922ba3df-1349-498b-9626-4f08225f365b",
   "metadata": {},
   "source": [
    "Statistics is the science of collecting, organizing and analyzing data"
   ]
  },
  {
   "cell_type": "markdown",
   "id": "2204e2c6-b4d3-4b88-82a2-422b584e6fd4",
   "metadata": {},
   "source": [
    "#### Q2. Define the different types of statistics and give an example of when each type might be used."
   ]
  },
  {
   "cell_type": "markdown",
   "id": "fef699ee-0ea1-4397-a7b0-7edb3afb2a0b",
   "metadata": {},
   "source": [
    "Descriptive Statistics: it is consists of organizing and summarizing data. These statistics help in describing and summarizing the main features of a dataset. The common measures of descriptive statistics include measures of central tendency and measures of dispersion."
   ]
  },
  {
   "cell_type": "markdown",
   "id": "51250a01-9d88-42b2-bbc4-e803ccf2343b",
   "metadata": {},
   "source": [
    "Example:\n",
    "\n",
    "Mean: The average score of students in a class on a particular exam. For instance, the mean score on a math test for a class of students might be 75.\n",
    "\n",
    "Median: The middle score in a set of data, useful when there are extreme values. For example, the median income of a population may provide a more representative measure than the mean income."
   ]
  },
  {
   "cell_type": "markdown",
   "id": "944a659b-215c-4b18-a9a8-ffcb75114102",
   "metadata": {},
   "source": [
    "Inferential Statistics:\n",
    "Inferential statistics involve making inferences and predictions about a population based on a sample of data taken from that population. It uses probability theory to make predictions or draw conclusions about a population based on a sample."
   ]
  },
  {
   "cell_type": "markdown",
   "id": "f1e7e2cf-1312-49a7-9a58-f6ac65151a49",
   "metadata": {},
   "source": [
    "Example:\n",
    "\n",
    "Hypothesis Testing: A pharmaceutical company might use inferential statistics to test the effectiveness of a new drug by comparing the health outcomes of a group of patients who received the drug with those who received a placebo.\n",
    "\n",
    "Confidence Intervals: A political pollster might use inferential statistics to estimate the percentage of voters who support a particular candidate and provide a confidence interval to express the uncertainty around that estimate."
   ]
  },
  {
   "cell_type": "markdown",
   "id": "9aa0dcdf-5f85-40c9-a468-20daa25c0d29",
   "metadata": {},
   "source": [
    "#### Q3. What are the different types of data and how do they differ from each other? Provide an example of each type of data."
   ]
  },
  {
   "cell_type": "markdown",
   "id": "36805389-3240-4571-9918-fb1fcaa546a7",
   "metadata": {},
   "source": [
    "There are several ways to categorize data, but one common classification uses two main types based on their measurement properties: qualitative and quantitative."
   ]
  },
  {
   "cell_type": "markdown",
   "id": "64d2d775-2188-4cdb-b28b-0bc1a4cedf8f",
   "metadata": {},
   "source": [
    "##### Qualitative Data:"
   ]
  },
  {
   "cell_type": "markdown",
   "id": "92f01a2c-87d6-4c82-9435-55b4e484b765",
   "metadata": {},
   "source": [
    "Qualitative data is non-numeric and is used to describe qualities or characteristics.  Qualitative data is  two types.\n",
    "##### Example:\n",
    "Colors, textures, tastes, opinions. For instance, the colors of cars in a parking lot (red, blue, green) or the texture of a fabric (smooth, rough)."
   ]
  },
  {
   "cell_type": "markdown",
   "id": "1c0990e1-47b3-42e6-8b3b-bc3c68fe63fa",
   "metadata": {
    "tags": []
   },
   "source": [
    "  ##### 1. Nominal Data:\n",
    "\n",
    "Nominal data represents categories without any inherent order.\n",
    "  ##### Examples: \n",
    "  blood type (A, B, AB, O), hair color (blonde, brunette, black, red), favorite movie genre (comedy, action, drama, romance)."
   ]
  },
  {
   "cell_type": "markdown",
   "id": "8b72acfa-6e9f-4653-a0ee-db5e218f6d84",
   "metadata": {},
   "source": [
    "  ##### 1. Ordinal Data:\n",
    "\n",
    "Ordinal data represents categories with a meaningful order or rank but the intervals between them are not consistent.\n",
    "  ##### Examples: \n",
    "  shirt size (S, M, L, XL), movie rating (1-5 stars), level of education (primary, secondary, tertiary)."
   ]
  },
  {
   "cell_type": "markdown",
   "id": "a1d7b205-3ef4-4570-bd55-697e3e0f3e4b",
   "metadata": {},
   "source": [
    "##### Quantitative Data:\n",
    "\n",
    "Quantitative data is numeric and represents measurable quantities. It can be further classified into discrete and continuous data.\n",
    "##### Example: \n",
    "The number of students in a class (discrete) or the height of individuals "
   ]
  },
  {
   "cell_type": "markdown",
   "id": "cf11991f-8416-4246-9e05-d61507855273",
   "metadata": {},
   "source": [
    "##### 1. Discrete data: \n",
    "Takes specific whole number values and there are gaps between them. \n",
    "##### Examples: \n",
    "number of siblings (0, 1, 2, 3...), number of books read in a year (5, 10, 15, 20...), number of customers in a store at a specific time (10, 12, 15, 18...)."
   ]
  },
  {
   "cell_type": "markdown",
   "id": "5c39b86c-9a26-43e9-ac3b-785319809baf",
   "metadata": {},
   "source": [
    "##### 2. Continuous data: \n",
    "Can take any value within a range on a continuous scale. \n",
    "##### Examples: \n",
    "height (1.6 m, 1.7 m, 1.75 m...), temperature (20°C, 21°C, 21.5°C...), weight (60 kg, 62 kg, 62.5 kg...)."
   ]
  },
  {
   "cell_type": "markdown",
   "id": "4cc8765a-edcd-481d-b751-d3db28d6243b",
   "metadata": {},
   "source": [
    "##### Q4. Categorise the following datasets with respect to quantitative and qualitative data types:\n",
    "(i) Grading in exam: A+, A, B+, B, C+, C, D, E\n",
    "\n",
    "(ii) Colour of mangoes: yellow, green, orange, red\n",
    "\n",
    "(iii) Height data of a class: [178.9, 179, 179.5, 176, 177.2, 178.3, 175.8,...]\n",
    "\n",
    "(iv) Number of mangoes exported by a farm: [500, 600, 478, 672, ...]"
   ]
  },
  {
   "cell_type": "markdown",
   "id": "c3f7d59c-0d2e-4743-a743-c37bfe6a0b86",
   "metadata": {},
   "source": [
    "### Ans\n",
    "(i) Grading in exam: Grades like A+, A, B+ are not numerical values and represent different levels of performance. Therefore, they are qualitative data.\n",
    "\n",
    "(ii) Colour of mangoes: Colors like yellow, green, orange, and red are categories and lack an inherent order. Hence, they are qualitative data.\n",
    "\n",
    "(iii) Height data of a class: Heights are numerical values and can be measured on a continuous scale. However, since we have individual data points for each student's height, it represents discrete quantitative data.\n",
    "\n",
    "(iv) Number of mangoes exported by a farm: The number of mangoes exported is a numerical value and can take whole number values. Similar to height data, it represents discrete quantitative data."
   ]
  },
  {
   "cell_type": "markdown",
   "id": "a77ce37b-bed6-4ee5-87e4-a21868bdbdaf",
   "metadata": {},
   "source": [
    "#### Q5. Explain the concept of levels of measurement and give an example of a variable for each level."
   ]
  },
  {
   "cell_type": "markdown",
   "id": "757688a5-01f7-4beb-a5e6-f5c1ca926487",
   "metadata": {},
   "source": [
    "Levels of measurement define the type of information a variable carries, affecting how we can analyze and interpret it. There are four main levels, each building on the properties of the one below:\n",
    "\n",
    "1. Nominal:\n",
    "\n",
    "Category-based: Variables with distinct categories but no inherent order.\n",
    "\n",
    "Example: Blood type (A, B, AB, O). The types are distinct, but there's no order like \"better\" or \"worse.\"\n",
    "\n",
    "2. Ordinal:\n",
    "\n",
    "Rank-based: Variables with categories in a meaningful order, but the intervals between categories are unknown.\n",
    "\n",
    "Example: Movie rating (1 to 5 stars). We know 5 is \"better\" than 1, but the difference between each star might be subjective.\n",
    "\n",
    "3. Interval:\n",
    "\n",
    "Order and equal intervals: Variables with categories in a meaningful order and consistent intervals between them.\n",
    "\n",
    "Example: Temperature (°C). We know 20°C is 10 degrees higher than 10°C and all intervals represent the same change in temperature.\n",
    "\n",
    "4. Ratio:\n",
    "\n",
    "Order, equal intervals, and true zero: Variables with all the properties of interval scales and a meaningful zero point, meaning absence of the attribute being measured.\n",
    "Example: Height (centimeters). 0 cm truly represents no height, and differences can be directly compared (e.g., 180 cm is twice 90 cm)."
   ]
  },
  {
   "cell_type": "markdown",
   "id": "840aba98-9848-4d3a-bb6c-9a403776d9e1",
   "metadata": {},
   "source": [
    "#### Q6. Why is it important to understand the level of measurement when analyzing data? Provide an example to illustrate your answer."
   ]
  },
  {
   "cell_type": "markdown",
   "id": "244f24b8-ea31-4706-9ac0-52f6861a7402",
   "metadata": {},
   "source": [
    "#### Importance of Understanding Levels of Measurement:\n",
    "\n",
    "1. Appropriate Statistical Analysis:\n",
    "\n",
    "Different statistical analyses are suitable for different levels of measurement. For example, mean and standard deviation are appropriate for interval and ratio data, but not for nominal or ordinal data.\n",
    "\n",
    "2. Meaningful Interpretation:\n",
    "\n",
    "Understanding the level of measurement helps in making meaningful interpretations. For instance, calculating the average of nominal data (e.g., assigning numbers to categories like 1 for red, 2 for blue) doesn't have a meaningful interpretation.\n",
    "\n",
    "3. Validity of Conclusions:\n",
    "\n",
    "Choosing the wrong statistical method based on the level of measurement can lead to invalid conclusions. Using parametric tests on non-parametric data may result in inaccurate findings.\n",
    "\n",
    "Example:\n",
    "\n",
    "Consider a study on customer satisfaction in a restaurant, where respondents rate their experience on a scale from 1 to 5.\n",
    "\n",
    "If the data is at the nominal level, the analysis might involve frequency counts of each rating.\n",
    "\n",
    "If the data is ordinal, one could analyze the median or mode to understand the central tendency.\n",
    "\n",
    "For interval or ratio data, mean and standard deviation might be appropriate, providing a more detailed understanding of the distribution."
   ]
  },
  {
   "cell_type": "markdown",
   "id": "7c6a6a66-2b03-4894-af36-751e1f7b19d4",
   "metadata": {},
   "source": [
    "#### Q7. How nominal data type is different from ordinal data type."
   ]
  },
  {
   "cell_type": "markdown",
   "id": "6941acdf-d059-491c-9d76-7e1c0e50fde5",
   "metadata": {},
   "source": [
    "#### Nominal Data"
   ]
  },
  {
   "cell_type": "markdown",
   "id": "2b79b9d2-3b10-4bb1-b71a-f9504aadda5a",
   "metadata": {},
   "source": [
    "1. Nominal data can’t be quantified, neither they have any intrinsic ordering.\n",
    "2. Nominal data is qualitative data or categorical data.\n",
    "3. They don’t provide any quantitative value, neither can we perform any arithmetical operation.\n",
    "4. Nominal data cannot be used to compare with one another.\n",
    "\n",
    "Examples: Eye color, housing style, gender, hair color, religion, marital status, ethnicity, etc"
   ]
  },
  {
   "cell_type": "markdown",
   "id": "be834a93-caa3-46ea-9d1d-e47196d1308a",
   "metadata": {},
   "source": [
    "#### Ordinal Data\n",
    "1. Ordinal data gives some kind of sequential order by their position on the scale.\n",
    "2. Ordinal data is said to be “in-between” qualitative data and quantitative data.\n",
    "3. They provide sequence and can assign numbers to ordinal data but cannot perform the arithmetical operation.\n",
    "4. Ordinal data can help to compare one item with another by ranking or ordering.\n",
    "\n",
    "Examples: Economic status, customer satisfaction, education level, letter grades, etc"
   ]
  },
  {
   "cell_type": "markdown",
   "id": "4b4d858a-9cd3-4138-b778-92233bf4ec4c",
   "metadata": {},
   "source": [
    "#### Q8. Which type of plot can be used to display data in terms of range?"
   ]
  },
  {
   "cell_type": "markdown",
   "id": "19857059-741c-421b-b286-0b30ff359fd6",
   "metadata": {},
   "source": [
    "A box plot, also known as a box-and-whisker plot, is commonly used to display data in terms of range. A box plot provides a visual summary of the distribution of a dataset and includes key summary statistics such as the median, quartiles, and potential outliers.\n",
    "\n",
    "Here's how a box plot represents data in terms of range:\n",
    "\n",
    "Box (Interquartile Range): The box in the middle of the plot represents the interquartile range (IQR), which is the range within which the central 50% of the data values lie. The lower and upper edges of the box represent the first (Q1) and third (Q3) quartiles, respectively.\n",
    "\n",
    "Line (Median): A line inside the box represents the median, which is the middle value of the dataset when it is ordered.\n",
    "\n",
    "Whiskers: The whiskers extend from the edges of the box to the minimum and maximum values within a certain range, often defined as 1.5 times the IQR. Any data points beyond the whiskers are considered potential outliers.\n",
    "\n",
    "Outliers: Individual data points that fall beyond the whiskers are plotted individually as dots and are considered outliers."
   ]
  },
  {
   "cell_type": "markdown",
   "id": "abe642e9-6fa6-4666-9706-9f7a91c6b329",
   "metadata": {},
   "source": [
    "#### Q9. Describe the difference between descriptive and inferential statistics. Give an example of each type of statistics and explain how they are used."
   ]
  },
  {
   "cell_type": "markdown",
   "id": "e7095df8-4716-446e-9098-0f6dff367dfc",
   "metadata": {},
   "source": [
    "\n",
    "#### Descriptive Statistics:\n",
    "Descriptive statistics involve the use of numerical and graphical methods to summarize and describe the main features of a dataset. These statistics provide a summary of the key aspects of the data, such as central tendency, dispersion, and shape. Descriptive statistics aim to simplify and organize large amounts of data in a meaningful way. Common measures of descriptive statistics include mean, median, mode, range, standard deviation, and various graphical representations like histograms or pie charts.\n",
    "\n",
    "#### Example of Descriptive Statistics:\n",
    "Consider a dataset of exam scores for a group of students. Descriptive statistics would include calculating the mean (average) score, the median (middle score), the mode (most frequent score), the range (difference between the highest and lowest scores), and the standard deviation (a measure of the spread of scores). These statistics provide a concise summary of the overall performance of the students in the exam.\n",
    "\n",
    "#### Inferential Statistics:\n",
    "Inferential statistics involve making inferences or predictions about a population based on a sample of data drawn from that population. Instead of describing the data itself, inferential statistics use sample data to make generalizations, draw conclusions, or make predictions about a larger population. This involves the use of probability theory and hypothesis testing. Common techniques in inferential statistics include hypothesis testing, confidence intervals, and regression analysis.\n",
    "\n",
    "#### Example of Inferential Statistics:\n",
    "Imagine a scenario where a researcher wants to determine whether a new teaching method has a significant effect on students' exam scores. The researcher could take a sample of students, apply the new teaching method, and then use inferential statistics to analyze whether any observed difference in scores between the new method and the traditional method is statistically significant. If the difference is significant, the researcher can infer that the teaching method likely has an effect on the larger population."
   ]
  },
  {
   "cell_type": "markdown",
   "id": "9588eafa-c88f-4b5b-a63c-683d84855059",
   "metadata": {},
   "source": [
    "#### Q10. What are some common measures of central tendency and variability used in statistics? Explain how each measure can be used to describe a dataset."
   ]
  },
  {
   "cell_type": "markdown",
   "id": "35315bfb-a971-43d0-be9f-9e82fe229e73",
   "metadata": {},
   "source": [
    "#### Measures of Central Tendency:\n",
    "\n",
    "##### 1. Mean:\n",
    "\n",
    "The mean is the average of all the values in a dataset. It is calculated by summing up all values and dividing by the number of observations.\n",
    "\n",
    "Use: The mean provides a measure of the central location of the data. It is sensitive to outliers and is suitable for data with a symmetric distribution.\n",
    "\n",
    "##### 2. Median:\n",
    "\n",
    "The median is the middle value when the data is ordered. If there is an even number of observations, it is the average of the two middle values.\n",
    "\n",
    "Use: The median is less sensitive to extreme values (outliers) than the mean. It is suitable for skewed distributions and ordinal data.\n",
    "\n",
    "##### 3. Mode:\n",
    "\n",
    "The mode is the value or values that occur most frequently in a dataset.\n",
    "Use: The mode is useful for categorical data and can be used for any type of data. A dataset may be unimodal (one mode), bimodal (two modes), or multimodal (more than two modes).\n",
    "\n",
    "#### Measures of Variability:\n",
    "\n",
    "##### 1. Range:\n",
    "\n",
    "The range is the difference between the maximum and minimum values in a dataset.\n",
    "\n",
    "Use: While simple, the range gives a quick indication of the spread of data. However, it is sensitive to outliers and may not reflect the overall variability well.\n",
    "\n",
    "##### 2. Variance:\n",
    "\n",
    "Variance measures how much each data point in the dataset differs from the mean. It is the average of the squared differences from the mean.\n",
    "\n",
    "Use: Variance provides a measure of overall variability but is in squared units, so the standard deviation is often preferred for better interpretability.\n",
    "\n",
    "##### 3. Standard Deviation:\n",
    "\n",
    "The standard deviation is the square root of the variance. It measures the average deviation of each data point from the mean.\n",
    "\n",
    "Use: Like variance, the standard deviation provides a measure of the spread of data, but it is in the same units as the data, making it more interpretable.\n",
    "\n",
    "#### 4. Interquartile Range (IQR):\n",
    "\n",
    "Description: The IQR is the range covered by the middle 50% of the data, calculated as the difference between the third quartile (Q3) and the first quartile (Q1).\n",
    "Use: The IQR is less affected by extreme values than the range and is useful for identifying the spread of the central portion of the data distribution.\n",
    "\n",
    "#### How They Describe a Dataset:\n",
    "\n",
    "##### Central Tendency Measures: Provide a summary of the central or typical value of a dataset, giving an indication of where the bulk of the data lies.\n",
    "\n",
    "Variability Measures: Describe the spread or dispersion of data points, providing insights into how much individual values deviate from the central tendency. These measures help assess the consistency or variability within the dataset."
   ]
  }
 ],
 "metadata": {
  "kernelspec": {
   "display_name": "Python 3 (ipykernel)",
   "language": "python",
   "name": "python3"
  },
  "language_info": {
   "codemirror_mode": {
    "name": "ipython",
    "version": 3
   },
   "file_extension": ".py",
   "mimetype": "text/x-python",
   "name": "python",
   "nbconvert_exporter": "python",
   "pygments_lexer": "ipython3",
   "version": "3.10.8"
  }
 },
 "nbformat": 4,
 "nbformat_minor": 5
}
